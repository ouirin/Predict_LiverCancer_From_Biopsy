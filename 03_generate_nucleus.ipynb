{
 "cells": [
  {
   "cell_type": "code",
   "execution_count": null,
   "id": "59f6885f-ca6a-41aa-a946-0b56bc293665",
   "metadata": {},
   "outputs": [],
   "source": [
    "import os\n",
    "import cv2\n",
    "import glob\n",
    "import ntpath\n",
    "import pandas as pd"
   ]
  },
  {
   "cell_type": "code",
   "execution_count": null,
   "id": "718e0ed0-c601-4ef8-8eeb-8f9d62712b9b",
   "metadata": {},
   "outputs": [],
   "source": [
    "generate_nucleus_from_images()"
   ]
  },
  {
   "cell_type": "code",
   "execution_count": null,
   "id": "c23a7616-5b9c-47ad-b054-a6c81328029c",
   "metadata": {},
   "outputs": [],
   "source": [
    "counter = 0\n",
    "\n",
    "def generate_nucleus_from_images():\n",
    "\n",
    "    for grade_no in range(0, 5):\n",
    "        \n",
    "        src_path = \"G:/LiverCancer/original/\" + \"grade\" + str(grade_no) + \"/\"\n",
    "        src_files = glob.glob(src_path + \"*.jpg\")\n",
    "    \n",
    "        for src_file in src_files:\n",
    "\n",
    "            print(src_file)\n",
    "            \n",
    "            generate_nucleus_from_image(src_file)\n",
    "\n",
    "def generate_nucleus_from_image(src_file):\n",
    "    \n",
    "    dst_path = \"G:/LiverCancer/nucleus/image/\"\n",
    "\n",
    "    global counter\n",
    "    \n",
    "    if \"grade0\" in src_file: sample_label = 0\n",
    "    if \"grade1\" in src_file: sample_label = 1\n",
    "    if \"grade2\" in src_file: sample_label = 2\n",
    "    if \"grade3\" in src_file: sample_label = 3\n",
    "    if \"grade4\" in src_file: sample_label = 4\n",
    "\n",
    "    img = cv2.imread(src_file)\n",
    "    df_labels = pd.read_csv(\"G:/LiverCancer/nucleus/_labels/\" + str(counter) + \".csv\")\n",
    "    \n",
    "    for index, annotation in df_labels.iterrows():\n",
    "        \n",
    "        index = annotation[\"index\"]\n",
    "        coord_x = annotation[\"coord_x\"]\n",
    "        coord_y = annotation[\"coord_y\"]\n",
    "        diameter = annotation[\"diameter\"]\n",
    "    \n",
    "        box_img = get_square_from_img(img, coord_x, coord_y, 128)\n",
    "      \n",
    "        os.makedirs(dst_path + \"grade\" + str(sample_label) + \"/\" + ntpath.basename(src_file) + \"/\", exist_ok=True)\n",
    "\n",
    "        file_name = \"grade_\" + str(sample_label) + \"_\" + ntpath.basename(src_file)[-6:-4]  + \"_\" + str(index) + \"_\" + str(coord_x) + \"_\" + str(coord_y) + \"_\" + str(diameter) + \".jpg\"\n",
    "\n",
    "        cv2.imwrite(dst_path + \"grade\" + str(sample_label) + \"/\" + ntpath.basename(src_file) + \"/\" + file_name, box_img)\n",
    "\n",
    "    counter += 1\n",
    "\n",
    "def get_square_from_img(img, center_x, center_y, box_size):\n",
    "\n",
    "    start_x = max(center_x - box_size / 2, 0) if center_x + box_size / 2 <= img.shape[0] else img.shape[0] - box_size\n",
    "    start_y = max(center_y - box_size / 2, 0) if center_y + box_size / 2 <= img.shape[1] else img.shape[1] - box_size\n",
    "\n",
    "    start_x = int(start_x)\n",
    "    start_y = int(start_y)\n",
    "\n",
    "    res = img[start_x:start_x + box_size, start_y:start_y + box_size]\n",
    "\n",
    "    return res"
   ]
  },
  {
   "cell_type": "code",
   "execution_count": null,
   "id": "08629777-40be-4c95-a5b9-4dff203ab87e",
   "metadata": {},
   "outputs": [],
   "source": []
  },
  {
   "cell_type": "code",
   "execution_count": null,
   "id": "410d6a30-670e-4711-a952-ac97c1bc579a",
   "metadata": {},
   "outputs": [],
   "source": []
  },
  {
   "cell_type": "code",
   "execution_count": null,
   "id": "ddbd452b-9467-4ec0-908d-6d35f7ff5c03",
   "metadata": {},
   "outputs": [],
   "source": []
  },
  {
   "cell_type": "code",
   "execution_count": null,
   "id": "dfdd4fb5-da72-41ac-9874-5e21b929099b",
   "metadata": {},
   "outputs": [],
   "source": []
  },
  {
   "cell_type": "code",
   "execution_count": null,
   "id": "6bc3f7c8-3f0e-4476-a2ee-0100caefc5dc",
   "metadata": {},
   "outputs": [],
   "source": []
  },
  {
   "cell_type": "code",
   "execution_count": null,
   "id": "5f5c8ef5-fe98-49d2-b10f-55719f1bda9f",
   "metadata": {},
   "outputs": [],
   "source": []
  },
  {
   "cell_type": "code",
   "execution_count": null,
   "id": "00fad36c-b28e-494c-bd4f-25baa522bcef",
   "metadata": {},
   "outputs": [],
   "source": []
  },
  {
   "cell_type": "code",
   "execution_count": null,
   "id": "9ca145c8-692b-4af0-9768-ab6c845d25e1",
   "metadata": {},
   "outputs": [],
   "source": []
  },
  {
   "cell_type": "code",
   "execution_count": null,
   "id": "818c449e-3c41-4b31-afa6-4808c8b90950",
   "metadata": {},
   "outputs": [],
   "source": []
  }
 ],
 "metadata": {
  "kernelspec": {
   "display_name": "Python 3 (ipykernel)",
   "language": "python",
   "name": "python3"
  },
  "language_info": {
   "codemirror_mode": {
    "name": "ipython",
    "version": 3
   },
   "file_extension": ".py",
   "mimetype": "text/x-python",
   "name": "python",
   "nbconvert_exporter": "python",
   "pygments_lexer": "ipython3",
   "version": "3.10.14"
  }
 },
 "nbformat": 4,
 "nbformat_minor": 5
}
