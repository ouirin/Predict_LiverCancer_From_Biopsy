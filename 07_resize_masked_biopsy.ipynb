{
 "cells": [
  {
   "cell_type": "code",
   "execution_count": null,
   "id": "054b9b18-e4ba-4d20-ae8d-8d931f99018f",
   "metadata": {},
   "outputs": [],
   "source": [
    "import cv2\n",
    "import glob\n",
    "import ntpath"
   ]
  },
  {
   "cell_type": "code",
   "execution_count": null,
   "id": "7f8c895c-f1ff-4881-a205-0d23cc3127c2",
   "metadata": {},
   "outputs": [],
   "source": [
    "resize_masked_biopsys()"
   ]
  },
  {
   "cell_type": "code",
   "execution_count": null,
   "id": "c82771ae-b6a5-42c1-b7df-1340be85d218",
   "metadata": {},
   "outputs": [],
   "source": [
    "def resize_masked_biopsys():\n",
    "\n",
    "    for grade_no in range(0, 5):\n",
    "        \n",
    "        src_path = \"G:/LiverCancer/masked_biopsy/\" + \"grade\" + str(grade_no) + \"/\"\n",
    "        src_files = glob.glob(src_path + \"*.jpg\")\n",
    "    \n",
    "        for src_file in src_files:\n",
    "\n",
    "            print(src_file)\n",
    "            \n",
    "            resize_masked_biopsy(src_file)\n",
    "\n",
    "def resize_masked_biopsy(src_file):\n",
    "\n",
    "    dst_path = \"G:/LiverCancer/masked_biopsy_resized/\"\n",
    "\n",
    "    if \"grade0\" in src_file: sample_label = 0\n",
    "    if \"grade1\" in src_file: sample_label = 1\n",
    "    if \"grade2\" in src_file: sample_label = 2\n",
    "    if \"grade3\" in src_file: sample_label = 3\n",
    "    if \"grade4\" in src_file: sample_label = 4\n",
    "\n",
    "    sample_image = cv2.imread(src_file)\n",
    "    sample_image = cv2.resize(sample_image, (256,256)) \n",
    "    \n",
    "    cv2.imwrite(dst_path + \"grade\" + str(sample_label) + \"/\" + ntpath.basename(src_file), sample_image)"
   ]
  },
  {
   "cell_type": "code",
   "execution_count": null,
   "id": "22c3a36f-1317-4115-af59-631be1b28d2c",
   "metadata": {},
   "outputs": [],
   "source": []
  },
  {
   "cell_type": "code",
   "execution_count": null,
   "id": "0d500a65-0536-4b8b-9430-ebe7d9dc37c7",
   "metadata": {},
   "outputs": [],
   "source": []
  },
  {
   "cell_type": "code",
   "execution_count": null,
   "id": "a4feb4b9-bccb-44dc-9f98-660c77ea0c91",
   "metadata": {},
   "outputs": [],
   "source": []
  }
 ],
 "metadata": {
  "kernelspec": {
   "display_name": "Python 3 (ipykernel)",
   "language": "python",
   "name": "python3"
  },
  "language_info": {
   "codemirror_mode": {
    "name": "ipython",
    "version": 3
   },
   "file_extension": ".py",
   "mimetype": "text/x-python",
   "name": "python",
   "nbconvert_exporter": "python",
   "pygments_lexer": "ipython3",
   "version": "3.10.14"
  }
 },
 "nbformat": 4,
 "nbformat_minor": 5
}
