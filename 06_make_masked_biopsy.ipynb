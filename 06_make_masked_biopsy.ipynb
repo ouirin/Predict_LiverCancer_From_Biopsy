{
 "cells": [
  {
   "cell_type": "code",
   "execution_count": null,
   "id": "1ad4d78b-10ab-43c5-aaa1-0d72f4742e31",
   "metadata": {},
   "outputs": [],
   "source": [
    "import cv2\n",
    "import glob\n",
    "import ntpath\n",
    "import numpy as np\n",
    "import skimage\n",
    "from skimage import morphology"
   ]
  },
  {
   "cell_type": "code",
   "execution_count": null,
   "id": "bec7e818-7fc7-4772-9b8e-9f762766e0a6",
   "metadata": {},
   "outputs": [],
   "source": [
    "make_masked_biopsys()"
   ]
  },
  {
   "cell_type": "code",
   "execution_count": null,
   "id": "651e3ddb-1342-4c0d-a229-6901e5578525",
   "metadata": {},
   "outputs": [],
   "source": [
    "def make_masked_biopsys():\n",
    "\n",
    "    for grade_no in range(0, 5):\n",
    "        \n",
    "        src_path = \"G:/LiverCancer/original/\" + \"grade\" + str(grade_no) + \"/\"\n",
    "        src_files = glob.glob(src_path + \"*.jpg\")\n",
    "    \n",
    "        for src_file in src_files:\n",
    "\n",
    "            print(src_file)\n",
    "            \n",
    "            make_masked_biopsy(src_file)\n",
    "\n",
    "def make_masked_biopsy(src_file):\n",
    "\n",
    "    dst_path = \"G:/LiverCancer/masked_biopsy/\"\n",
    "    \n",
    "    if \"grade0\" in src_file: sample_label = 0\n",
    "    if \"grade1\" in src_file: sample_label = 1\n",
    "    if \"grade2\" in src_file: sample_label = 2\n",
    "    if \"grade3\" in src_file: sample_label = 3\n",
    "    if \"grade4\" in src_file: sample_label = 4\n",
    "        \n",
    "   \n",
    "    sample_image = cv2.imread(src_file)\n",
    "    image_red = sample_image[:,:,2]\n",
    "    kernel_1 = skimage.morphology.disk(20)\n",
    "    kernel_2 = skimage.morphology.disk(3)\n",
    "\n",
    "    image_closing = skimage.morphology.closing(image_red, kernel_2)\n",
    "    image_erosion = skimage.morphology.erosion(image_closing, kernel_1)\n",
    "    image_reconstruction_1 = skimage.morphology.reconstruction(image_erosion,image_closing).astype(np.uint8)\n",
    "    image_dialtion = skimage.morphology.dilation(image_reconstruction_1, kernel_1)\n",
    "    image_reconstruction_2 = skimage.morphology.reconstruction(image_dialtion, image_reconstruction_1, method='erosion').astype(np.uint8)\n",
    "\n",
    "    image_zero = (image_reconstruction_2 - image_reconstruction_2.mean()).astype(np.int)\n",
    "    image_binary = image_zero < - 10\n",
    "\n",
    "    sample_image[image_binary] = 255\n",
    "                             \n",
    "    cv2.imwrite(dst_path + \"grade\" + str(sample_label) + \"/\" + ntpath.basename(src_file), sample_image)\n",
    "        "
   ]
  },
  {
   "cell_type": "code",
   "execution_count": null,
   "id": "eab4fef3-bab8-4ab3-8eff-d73fbcd84508",
   "metadata": {},
   "outputs": [],
   "source": []
  },
  {
   "cell_type": "code",
   "execution_count": null,
   "id": "9b3775d0-9820-4c31-93e4-90395d166318",
   "metadata": {},
   "outputs": [],
   "source": []
  },
  {
   "cell_type": "code",
   "execution_count": null,
   "id": "db944291-a9fd-455d-8856-8a0900519483",
   "metadata": {},
   "outputs": [],
   "source": []
  }
 ],
 "metadata": {
  "kernelspec": {
   "display_name": "Python 3 (ipykernel)",
   "language": "python",
   "name": "python3"
  },
  "language_info": {
   "codemirror_mode": {
    "name": "ipython",
    "version": 3
   },
   "file_extension": ".py",
   "mimetype": "text/x-python",
   "name": "python",
   "nbconvert_exporter": "python",
   "pygments_lexer": "ipython3",
   "version": "3.10.14"
  }
 },
 "nbformat": 4,
 "nbformat_minor": 5
}
