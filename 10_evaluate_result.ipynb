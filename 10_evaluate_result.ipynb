{
 "cells": [
  {
   "cell_type": "code",
   "execution_count": null,
   "id": "f1d4ba0c-cb3f-463a-942a-04741def4ecb",
   "metadata": {},
   "outputs": [],
   "source": [
    "import numpy as np\n",
    "import pandas as pd"
   ]
  },
  {
   "cell_type": "code",
   "execution_count": null,
   "id": "8b972f7f-bf0f-4352-9a80-a35e163383b2",
   "metadata": {},
   "outputs": [],
   "source": [
    "df = pd.read_csv(\"G:/LiverCancer/predict_result/1_result.csv\")\n",
    "\n",
    "rater_a = df.iloc[:,6].values.tolist()\n",
    "rater_b = [row.index(max(row)) for row in df.iloc[:, 1:6].values.tolist()]\n",
    "\n",
    "temp, conf = quadratic_weighted_kappa(rater_a,rater_b)"
   ]
  },
  {
   "cell_type": "code",
   "execution_count": null,
   "id": "0862d18b-de5d-4731-9d93-fbd0ce12e672",
   "metadata": {},
   "outputs": [],
   "source": [
    "def quadratic_weighted_kappa(rater_a, rater_b, min_rating=None, max_rating=None): \n",
    "    \n",
    "    rater_a = np.array(rater_a, dtype=int) \n",
    "    rater_b = np.array(rater_b, dtype=int) \n",
    "    \n",
    "    assert(len(rater_a) == len(rater_b)) \n",
    "    \n",
    "    if min_rating is None: min_rating = min(min(rater_a), min(rater_b))\n",
    "    if max_rating is None: max_rating = max(max(rater_a), max(rater_b))\n",
    "        \n",
    "    conf_mat = confusion_matrix(rater_a, rater_b, min_rating, max_rating)\n",
    "    \n",
    "    print(conf_mat)\n",
    "    \n",
    "    num_ratings = len(conf_mat) \n",
    "    num_scored_items = float(len(rater_a)) \n",
    "    \n",
    "    hist_rater_a = histogram(rater_a, min_rating, max_rating) \n",
    "    hist_rater_b = histogram(rater_b, min_rating, max_rating) \n",
    "    \n",
    "    numerator = 0.0 \n",
    "    denominator = 0.0 \n",
    "    \n",
    "    for i in range(num_ratings): \n",
    "        \n",
    "        for j in range(num_ratings): \n",
    "            \n",
    "            expected_count = (hist_rater_a[i] * hist_rater_b[j] / num_scored_items) \n",
    "            d = pow(i - j, 2.0) / pow(num_ratings - 1, 2.0) \n",
    "            numerator += d * conf_mat[i][j] / num_scored_items \n",
    "            denominator += d * expected_count / num_scored_items \n",
    "            \n",
    "    return 1.0 - numerator / denominator, conf_mat \n",
    "\n",
    "def confusion_matrix(rater_a, rater_b, min_rating=None, max_rating=None):\n",
    "\n",
    "    num_ratings = int(max_rating - min_rating + 1)\n",
    "\n",
    "    conf_mat = [[0 for i in range(num_ratings)] for j in range(num_ratings)]\n",
    "\n",
    "    for a, b in zip(rater_a, rater_b):\n",
    "\n",
    "        conf_mat[a - min_rating][b - min_rating] += 1\n",
    "\n",
    "    return conf_mat\n",
    "\n",
    "def histogram(ratings, min_rating=None, max_rating=None):\n",
    "\n",
    "    num_ratings = int(max_rating - min_rating + 1)\n",
    "\n",
    "    hist_ratings = [0 for x in range(num_ratings)]\n",
    "\n",
    "    for r in ratings:\n",
    "\n",
    "        hist_ratings[r - min_rating] += 1\n",
    "    \n",
    "    return hist_ratings"
   ]
  },
  {
   "cell_type": "code",
   "execution_count": null,
   "id": "caece04d-d1f0-437a-b505-b15d54d8fe30",
   "metadata": {},
   "outputs": [],
   "source": []
  }
 ],
 "metadata": {
  "kernelspec": {
   "display_name": "Python 3 (ipykernel)",
   "language": "python",
   "name": "python3"
  },
  "language_info": {
   "codemirror_mode": {
    "name": "ipython",
    "version": 3
   },
   "file_extension": ".py",
   "mimetype": "text/x-python",
   "name": "python",
   "nbconvert_exporter": "python",
   "pygments_lexer": "ipython3",
   "version": "3.10.14"
  }
 },
 "nbformat": 4,
 "nbformat_minor": 5
}
