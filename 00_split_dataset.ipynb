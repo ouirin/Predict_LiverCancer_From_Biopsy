{
 "cells": [
  {
   "cell_type": "code",
   "execution_count": null,
   "id": "70c6b9e5-c766-4257-8cc2-cdebdef79bde",
   "metadata": {},
   "outputs": [],
   "source": [
    "import os\n",
    "import glob\n",
    "import random\n",
    "import numpy as np\n",
    "import pandas as pd\n",
    "from sklearn.model_selection import KFold"
   ]
  },
  {
   "cell_type": "code",
   "execution_count": null,
   "id": "b0ef0ace-f5a4-455f-a864-616dcdd465d9",
   "metadata": {},
   "outputs": [],
   "source": [
    "src_path = \"G:/LiverCancer/original/\"\n",
    "\n",
    "file_paths = [file_path for fold in os.listdir(src_path) for file_path in glob.glob(os.path.join(src_path, fold, \"*.jpg\"))]\n",
    "\n",
    "random.shuffle(file_paths)\n",
    "\n",
    "kf=KFold(n_splits=10)\n",
    "\n",
    "file_paths = np.array(file_paths)\n",
    "\n",
    "for train_index, holdout_index in kf.split(file_paths):\n",
    "\n",
    "    train_file_paths = file_paths[train_index]\n",
    "    holdout_file_paths = file_paths[holdout_index]\n",
    "    \n",
    "    df_train = pd.DataFrame(train_file_paths, columns=[\"file_path\"])\n",
    "    df_test = pd.DataFrame(holdout_file_paths, columns=[\"file_path\"])\n",
    "    \n",
    "    dst_path = \"G:/LiverCancer/resources/split_rule/\"+ str(count) + \"/\"\n",
    "    \n",
    "    os.makedirs(dst_path, exist_ok=True)\n",
    "        \n",
    "    df_train.to_csv(dst_path + \"train.csv\" , index=False)\n",
    "    df_test.to_csv(dst_path + \"holdout.csv\" , index=False)"
   ]
  },
  {
   "cell_type": "code",
   "execution_count": null,
   "id": "7b5724ef-b2e8-48bc-aa54-e3a9912e369a",
   "metadata": {},
   "outputs": [],
   "source": []
  },
  {
   "cell_type": "code",
   "execution_count": null,
   "id": "bba0db58-e46d-4935-b4e9-ef4a5d839a2d",
   "metadata": {},
   "outputs": [],
   "source": []
  },
  {
   "cell_type": "code",
   "execution_count": null,
   "id": "00f61969-a1ec-4016-bc7f-240f97413db4",
   "metadata": {},
   "outputs": [],
   "source": []
  },
  {
   "cell_type": "code",
   "execution_count": null,
   "id": "32b956fc-4c9f-4d08-8b22-dc05c698b18c",
   "metadata": {},
   "outputs": [],
   "source": []
  }
 ],
 "metadata": {
  "kernelspec": {
   "display_name": "Python 3 (ipykernel)",
   "language": "python",
   "name": "python3"
  },
  "language_info": {
   "codemirror_mode": {
    "name": "ipython",
    "version": 3
   },
   "file_extension": ".py",
   "mimetype": "text/x-python",
   "name": "python",
   "nbconvert_exporter": "python",
   "pygments_lexer": "ipython3",
   "version": "3.10.14"
  }
 },
 "nbformat": 4,
 "nbformat_minor": 5
}
