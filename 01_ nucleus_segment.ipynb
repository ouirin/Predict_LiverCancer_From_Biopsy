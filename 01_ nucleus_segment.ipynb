{
 "cells": [
  {
   "cell_type": "code",
   "execution_count": null,
   "id": "0ea85722-e467-4094-8e3a-41e501b7bd84",
   "metadata": {},
   "outputs": [],
   "source": [
    "import cv2\n",
    "import glob\n",
    "import numpy as np\n",
    "import pandas as pd\n",
    "import skimage\n",
    "from skimage import measure\n",
    "from skimage import morphology\n",
    "from skimage import segmentation"
   ]
  },
  {
   "cell_type": "code",
   "execution_count": null,
   "id": "f9cf81db-822d-4950-8682-a35ca0f9c8be",
   "metadata": {},
   "outputs": [],
   "source": [
    "segment_biposy_images()"
   ]
  },
  {
   "cell_type": "code",
   "execution_count": null,
   "id": "706b54de-6f9a-4014-abd0-334b179feedd",
   "metadata": {},
   "outputs": [],
   "source": [
    "counter = 0\n",
    "\n",
    "def segment_biopsy_images():\n",
    "\n",
    "    for grade_no in range(0, 5):\n",
    "        \n",
    "        src_path = \"G:/LiverCancer/original/\" + \"grade\" + str(grade_no) + \"/\"\n",
    "        src_files = glob.glob(src_path + \"*.jpg\")\n",
    "    \n",
    "        for src_file in src_files:\n",
    "\n",
    "            print(src_file)\n",
    "            \n",
    "            segment_biopsy_image(src_file)\n",
    "        \n",
    "def segment_biopsy_image(src_file):\n",
    "\n",
    "    dst_path = \"G:/LiverCancer/nucleus/_labels/\"\n",
    "\n",
    "    global counter; labels = []\n",
    "\n",
    "    sample_image = cv2.imread(file_path)\n",
    "    image_red = sample_image[:,:,2]\n",
    "    kernel_1 = skimage.morphology.disk(20)\n",
    "    kernel_2 = skimage.morphology.disk(3)\n",
    "\n",
    "    image_closing = skimage.morphology.closing(image_red, kernel_2)\n",
    "    image_erosion = skimage.morphology.erosion(image_closing, kernel_1)\n",
    "    image_reconstruction_1 = skimage.morphology.reconstruction(image_erosion,image_closing).astype(np.uint8)\n",
    "    image_dialtion = skimage.morphology.dilation(image_reconstruction_1, kernel_1)\n",
    "    image_reconstruction_2 = skimage.morphology.reconstruction(image_dialtion, image_reconstruction_1, method='erosion').astype(np.uint8)\n",
    "\n",
    "    image_zero = (image_reconstruction_2 - image_reconstruction_2.mean()).astype(np.int)\n",
    "    image_binary = image_zero < - 10\n",
    "    image_binary = skimage.segmentation.clear_border(image_binary)\n",
    "    image_label = skimage.measure.label(image_binary)\n",
    "    image_label_color = skimage.color.label2rgb(image_label) \n",
    "    print('regions number:',image_label.max()+1)\n",
    "    properties = skimage.measure.regionprops(image_label)\n",
    "\n",
    "    for i in range(len(properties)):\n",
    "\n",
    "        coord_x = int(properties[i].centroid[0])\n",
    "        coord_y = int(properties[i].centroid[1])\n",
    "        diameter = int(properties[i].equivalent_diameter)\n",
    "\n",
    "        labels.append([file_path, i, coord_x, coord_y, diameter])\n",
    "\n",
    "    df_labels = pd.DataFrame(labels, columns=[\"file_path\", \"index\", \"coord_x\", \"coord_y\", \"diameter\"])\n",
    "    \n",
    "    df_labels.to_csv(dst_path + str(counter) + \".csv\", index=False)\n",
    "\n",
    "    counter += 1\n"
   ]
  },
  {
   "cell_type": "code",
   "execution_count": null,
   "id": "d4dff84b-bab9-4c6a-86f4-8b75401405d9",
   "metadata": {},
   "outputs": [],
   "source": []
  },
  {
   "cell_type": "code",
   "execution_count": null,
   "id": "d22372f2-3e35-4cde-b778-c54fe927c469",
   "metadata": {},
   "outputs": [],
   "source": []
  },
  {
   "cell_type": "code",
   "execution_count": null,
   "id": "6da01d2c-42e2-43a4-a709-f045ae27e2c0",
   "metadata": {},
   "outputs": [],
   "source": []
  },
  {
   "cell_type": "code",
   "execution_count": null,
   "id": "b8883c5e-ec67-4e6b-8e59-2d6113866aa2",
   "metadata": {},
   "outputs": [],
   "source": []
  },
  {
   "cell_type": "code",
   "execution_count": null,
   "id": "8f39db1c-1325-45f1-808e-c22cf4e8c383",
   "metadata": {},
   "outputs": [],
   "source": []
  },
  {
   "cell_type": "code",
   "execution_count": null,
   "id": "2aed10d3-e155-4084-a81a-45c34c90b790",
   "metadata": {},
   "outputs": [],
   "source": []
  },
  {
   "cell_type": "code",
   "execution_count": null,
   "id": "83c8ab5d-ae6e-4a4b-89dd-032ce35cf001",
   "metadata": {},
   "outputs": [],
   "source": []
  }
 ],
 "metadata": {
  "kernelspec": {
   "display_name": "Python 3 (ipykernel)",
   "language": "python",
   "name": "python3"
  },
  "language_info": {
   "codemirror_mode": {
    "name": "ipython",
    "version": 3
   },
   "file_extension": ".py",
   "mimetype": "text/x-python",
   "name": "python",
   "nbconvert_exporter": "python",
   "pygments_lexer": "ipython3",
   "version": "3.10.14"
  }
 },
 "nbformat": 4,
 "nbformat_minor": 5
}
